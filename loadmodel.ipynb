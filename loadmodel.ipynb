{
  "nbformat": 4,
  "nbformat_minor": 0,
  "metadata": {
    "colab": {
      "provenance": [],
      "gpuType": "L4"
    },
    "kernelspec": {
      "name": "python3",
      "display_name": "Python 3"
    },
    "language_info": {
      "name": "python"
    },
    "accelerator": "GPU",
    "widgets": {
      "application/vnd.jupyter.widget-state+json": {
        "e686c33713c64ab5ab29db9cf9a0b52b": {
          "model_module": "@jupyter-widgets/controls",
          "model_name": "HBoxModel",
          "model_module_version": "1.5.0",
          "state": {
            "_dom_classes": [],
            "_model_module": "@jupyter-widgets/controls",
            "_model_module_version": "1.5.0",
            "_model_name": "HBoxModel",
            "_view_count": null,
            "_view_module": "@jupyter-widgets/controls",
            "_view_module_version": "1.5.0",
            "_view_name": "HBoxView",
            "box_style": "",
            "children": [
              "IPY_MODEL_9c5aee6939ce401c88c41fdf9519504f",
              "IPY_MODEL_9d0994df7fca4d72b7b78bbc5c55e7ad",
              "IPY_MODEL_1c69efcae151413b8ad01d05afbbcd3d"
            ],
            "layout": "IPY_MODEL_e87a781de51a48fd8b1504811bf84a6f"
          }
        },
        "9c5aee6939ce401c88c41fdf9519504f": {
          "model_module": "@jupyter-widgets/controls",
          "model_name": "HTMLModel",
          "model_module_version": "1.5.0",
          "state": {
            "_dom_classes": [],
            "_model_module": "@jupyter-widgets/controls",
            "_model_module_version": "1.5.0",
            "_model_name": "HTMLModel",
            "_view_count": null,
            "_view_module": "@jupyter-widgets/controls",
            "_view_module_version": "1.5.0",
            "_view_name": "HTMLView",
            "description": "",
            "description_tooltip": null,
            "layout": "IPY_MODEL_3232da6898ab4c5b9c786e9c6321737e",
            "placeholder": "​",
            "style": "IPY_MODEL_7ff14b1341b24405ae7d68cac31f62a2",
            "value": "Loading checkpoint shards: 100%"
          }
        },
        "9d0994df7fca4d72b7b78bbc5c55e7ad": {
          "model_module": "@jupyter-widgets/controls",
          "model_name": "FloatProgressModel",
          "model_module_version": "1.5.0",
          "state": {
            "_dom_classes": [],
            "_model_module": "@jupyter-widgets/controls",
            "_model_module_version": "1.5.0",
            "_model_name": "FloatProgressModel",
            "_view_count": null,
            "_view_module": "@jupyter-widgets/controls",
            "_view_module_version": "1.5.0",
            "_view_name": "ProgressView",
            "bar_style": "success",
            "description": "",
            "description_tooltip": null,
            "layout": "IPY_MODEL_c042530218f94b28b6167ff4df97c37b",
            "max": 6,
            "min": 0,
            "orientation": "horizontal",
            "style": "IPY_MODEL_25cea38e6bb54aa19a858e72daa0d21c",
            "value": 6
          }
        },
        "1c69efcae151413b8ad01d05afbbcd3d": {
          "model_module": "@jupyter-widgets/controls",
          "model_name": "HTMLModel",
          "model_module_version": "1.5.0",
          "state": {
            "_dom_classes": [],
            "_model_module": "@jupyter-widgets/controls",
            "_model_module_version": "1.5.0",
            "_model_name": "HTMLModel",
            "_view_count": null,
            "_view_module": "@jupyter-widgets/controls",
            "_view_module_version": "1.5.0",
            "_view_name": "HTMLView",
            "description": "",
            "description_tooltip": null,
            "layout": "IPY_MODEL_1b805961536a4b1bb117249c6c88871c",
            "placeholder": "​",
            "style": "IPY_MODEL_da2de098bef1424796b7a4a78eddf927",
            "value": " 6/6 [04:48&lt;00:00, 45.56s/it]"
          }
        },
        "e87a781de51a48fd8b1504811bf84a6f": {
          "model_module": "@jupyter-widgets/base",
          "model_name": "LayoutModel",
          "model_module_version": "1.2.0",
          "state": {
            "_model_module": "@jupyter-widgets/base",
            "_model_module_version": "1.2.0",
            "_model_name": "LayoutModel",
            "_view_count": null,
            "_view_module": "@jupyter-widgets/base",
            "_view_module_version": "1.2.0",
            "_view_name": "LayoutView",
            "align_content": null,
            "align_items": null,
            "align_self": null,
            "border": null,
            "bottom": null,
            "display": null,
            "flex": null,
            "flex_flow": null,
            "grid_area": null,
            "grid_auto_columns": null,
            "grid_auto_flow": null,
            "grid_auto_rows": null,
            "grid_column": null,
            "grid_gap": null,
            "grid_row": null,
            "grid_template_areas": null,
            "grid_template_columns": null,
            "grid_template_rows": null,
            "height": null,
            "justify_content": null,
            "justify_items": null,
            "left": null,
            "margin": null,
            "max_height": null,
            "max_width": null,
            "min_height": null,
            "min_width": null,
            "object_fit": null,
            "object_position": null,
            "order": null,
            "overflow": null,
            "overflow_x": null,
            "overflow_y": null,
            "padding": null,
            "right": null,
            "top": null,
            "visibility": null,
            "width": null
          }
        },
        "3232da6898ab4c5b9c786e9c6321737e": {
          "model_module": "@jupyter-widgets/base",
          "model_name": "LayoutModel",
          "model_module_version": "1.2.0",
          "state": {
            "_model_module": "@jupyter-widgets/base",
            "_model_module_version": "1.2.0",
            "_model_name": "LayoutModel",
            "_view_count": null,
            "_view_module": "@jupyter-widgets/base",
            "_view_module_version": "1.2.0",
            "_view_name": "LayoutView",
            "align_content": null,
            "align_items": null,
            "align_self": null,
            "border": null,
            "bottom": null,
            "display": null,
            "flex": null,
            "flex_flow": null,
            "grid_area": null,
            "grid_auto_columns": null,
            "grid_auto_flow": null,
            "grid_auto_rows": null,
            "grid_column": null,
            "grid_gap": null,
            "grid_row": null,
            "grid_template_areas": null,
            "grid_template_columns": null,
            "grid_template_rows": null,
            "height": null,
            "justify_content": null,
            "justify_items": null,
            "left": null,
            "margin": null,
            "max_height": null,
            "max_width": null,
            "min_height": null,
            "min_width": null,
            "object_fit": null,
            "object_position": null,
            "order": null,
            "overflow": null,
            "overflow_x": null,
            "overflow_y": null,
            "padding": null,
            "right": null,
            "top": null,
            "visibility": null,
            "width": null
          }
        },
        "7ff14b1341b24405ae7d68cac31f62a2": {
          "model_module": "@jupyter-widgets/controls",
          "model_name": "DescriptionStyleModel",
          "model_module_version": "1.5.0",
          "state": {
            "_model_module": "@jupyter-widgets/controls",
            "_model_module_version": "1.5.0",
            "_model_name": "DescriptionStyleModel",
            "_view_count": null,
            "_view_module": "@jupyter-widgets/base",
            "_view_module_version": "1.2.0",
            "_view_name": "StyleView",
            "description_width": ""
          }
        },
        "c042530218f94b28b6167ff4df97c37b": {
          "model_module": "@jupyter-widgets/base",
          "model_name": "LayoutModel",
          "model_module_version": "1.2.0",
          "state": {
            "_model_module": "@jupyter-widgets/base",
            "_model_module_version": "1.2.0",
            "_model_name": "LayoutModel",
            "_view_count": null,
            "_view_module": "@jupyter-widgets/base",
            "_view_module_version": "1.2.0",
            "_view_name": "LayoutView",
            "align_content": null,
            "align_items": null,
            "align_self": null,
            "border": null,
            "bottom": null,
            "display": null,
            "flex": null,
            "flex_flow": null,
            "grid_area": null,
            "grid_auto_columns": null,
            "grid_auto_flow": null,
            "grid_auto_rows": null,
            "grid_column": null,
            "grid_gap": null,
            "grid_row": null,
            "grid_template_areas": null,
            "grid_template_columns": null,
            "grid_template_rows": null,
            "height": null,
            "justify_content": null,
            "justify_items": null,
            "left": null,
            "margin": null,
            "max_height": null,
            "max_width": null,
            "min_height": null,
            "min_width": null,
            "object_fit": null,
            "object_position": null,
            "order": null,
            "overflow": null,
            "overflow_x": null,
            "overflow_y": null,
            "padding": null,
            "right": null,
            "top": null,
            "visibility": null,
            "width": null
          }
        },
        "25cea38e6bb54aa19a858e72daa0d21c": {
          "model_module": "@jupyter-widgets/controls",
          "model_name": "ProgressStyleModel",
          "model_module_version": "1.5.0",
          "state": {
            "_model_module": "@jupyter-widgets/controls",
            "_model_module_version": "1.5.0",
            "_model_name": "ProgressStyleModel",
            "_view_count": null,
            "_view_module": "@jupyter-widgets/base",
            "_view_module_version": "1.2.0",
            "_view_name": "StyleView",
            "bar_color": null,
            "description_width": ""
          }
        },
        "1b805961536a4b1bb117249c6c88871c": {
          "model_module": "@jupyter-widgets/base",
          "model_name": "LayoutModel",
          "model_module_version": "1.2.0",
          "state": {
            "_model_module": "@jupyter-widgets/base",
            "_model_module_version": "1.2.0",
            "_model_name": "LayoutModel",
            "_view_count": null,
            "_view_module": "@jupyter-widgets/base",
            "_view_module_version": "1.2.0",
            "_view_name": "LayoutView",
            "align_content": null,
            "align_items": null,
            "align_self": null,
            "border": null,
            "bottom": null,
            "display": null,
            "flex": null,
            "flex_flow": null,
            "grid_area": null,
            "grid_auto_columns": null,
            "grid_auto_flow": null,
            "grid_auto_rows": null,
            "grid_column": null,
            "grid_gap": null,
            "grid_row": null,
            "grid_template_areas": null,
            "grid_template_columns": null,
            "grid_template_rows": null,
            "height": null,
            "justify_content": null,
            "justify_items": null,
            "left": null,
            "margin": null,
            "max_height": null,
            "max_width": null,
            "min_height": null,
            "min_width": null,
            "object_fit": null,
            "object_position": null,
            "order": null,
            "overflow": null,
            "overflow_x": null,
            "overflow_y": null,
            "padding": null,
            "right": null,
            "top": null,
            "visibility": null,
            "width": null
          }
        },
        "da2de098bef1424796b7a4a78eddf927": {
          "model_module": "@jupyter-widgets/controls",
          "model_name": "DescriptionStyleModel",
          "model_module_version": "1.5.0",
          "state": {
            "_model_module": "@jupyter-widgets/controls",
            "_model_module_version": "1.5.0",
            "_model_name": "DescriptionStyleModel",
            "_view_count": null,
            "_view_module": "@jupyter-widgets/base",
            "_view_module_version": "1.2.0",
            "_view_name": "StyleView",
            "description_width": ""
          }
        }
      }
    }
  },
  "cells": [
    {
      "cell_type": "code",
      "source": [
        "!pip install -q transformers einops accelerate langchain bitsandbytes sentence_transformers sentencepiece"
      ],
      "metadata": {
        "id": "EqCuRuVRAvoc",
        "colab": {
          "base_uri": "https://localhost:8080/"
        },
        "outputId": "cf3ae916-9af5-4acb-de76-64cee2a1d071"
      },
      "execution_count": 1,
      "outputs": [
        {
          "output_type": "stream",
          "name": "stdout",
          "text": [
            "\u001b[?25l     \u001b[90m━━━━━━━━━━━━━━━━━━━━━━━━━━━━━━━━━━━━━━━━\u001b[0m \u001b[32m0.0/43.2 kB\u001b[0m \u001b[31m?\u001b[0m eta \u001b[36m-:--:--\u001b[0m\r\u001b[2K     \u001b[90m━━━━━━━━━━━━━━━━━━━━━━━━━━━━━━━━━━━━━━━━\u001b[0m \u001b[32m43.2/43.2 kB\u001b[0m \u001b[31m1.8 MB/s\u001b[0m eta \u001b[36m0:00:00\u001b[0m\n",
            "\u001b[2K     \u001b[90m━━━━━━━━━━━━━━━━━━━━━━━━━━━━━━━━━━━━━━━━\u001b[0m \u001b[32m309.4/309.4 kB\u001b[0m \u001b[31m12.8 MB/s\u001b[0m eta \u001b[36m0:00:00\u001b[0m\n",
            "\u001b[2K     \u001b[90m━━━━━━━━━━━━━━━━━━━━━━━━━━━━━━━━━━━━━━━━\u001b[0m \u001b[32m974.6/974.6 kB\u001b[0m \u001b[31m58.1 MB/s\u001b[0m eta \u001b[36m0:00:00\u001b[0m\n",
            "\u001b[2K     \u001b[90m━━━━━━━━━━━━━━━━━━━━━━━━━━━━━━━━━━━━━━━━\u001b[0m \u001b[32m119.8/119.8 MB\u001b[0m \u001b[31m13.3 MB/s\u001b[0m eta \u001b[36m0:00:00\u001b[0m\n",
            "\u001b[2K     \u001b[90m━━━━━━━━━━━━━━━━━━━━━━━━━━━━━━━━━━━━━━━━\u001b[0m \u001b[32m227.1/227.1 kB\u001b[0m \u001b[31m31.4 MB/s\u001b[0m eta \u001b[36m0:00:00\u001b[0m\n",
            "\u001b[2K     \u001b[90m━━━━━━━━━━━━━━━━━━━━━━━━━━━━━━━━━━━━━━━━\u001b[0m \u001b[32m321.8/321.8 kB\u001b[0m \u001b[31m41.3 MB/s\u001b[0m eta \u001b[36m0:00:00\u001b[0m\n",
            "\u001b[2K     \u001b[90m━━━━━━━━━━━━━━━━━━━━━━━━━━━━━━━━━━━━━━━━\u001b[0m \u001b[32m127.1/127.1 kB\u001b[0m \u001b[31m10.7 MB/s\u001b[0m eta \u001b[36m0:00:00\u001b[0m\n",
            "\u001b[2K     \u001b[90m━━━━━━━━━━━━━━━━━━━━━━━━━━━━━━━━━━━━━━━━\u001b[0m \u001b[32m145.0/145.0 kB\u001b[0m \u001b[31m21.3 MB/s\u001b[0m eta \u001b[36m0:00:00\u001b[0m\n",
            "\u001b[2K     \u001b[90m━━━━━━━━━━━━━━━━━━━━━━━━━━━━━━━━━━━━━━━━\u001b[0m \u001b[32m21.3/21.3 MB\u001b[0m \u001b[31m74.8 MB/s\u001b[0m eta \u001b[36m0:00:00\u001b[0m\n",
            "\u001b[?25h"
          ]
        }
      ]
    },
    {
      "cell_type": "code",
      "source": [
        "!pip install -q pypdf\n",
        "!pip install -q python-dotenv\n",
        "!pip install -q joblib\n",
        "!pip install faiss-cpu"
      ],
      "metadata": {
        "colab": {
          "base_uri": "https://localhost:8080/"
        },
        "id": "3wWEue2MA1AT",
        "outputId": "ea9d6569-c855-46d4-e05e-9631851ba915"
      },
      "execution_count": 2,
      "outputs": [
        {
          "output_type": "stream",
          "name": "stdout",
          "text": [
            "\u001b[2K     \u001b[90m━━━━━━━━━━━━━━━━━━━━━━━━━━━━━━━━━━━━━━━━\u001b[0m \u001b[32m290.4/290.4 kB\u001b[0m \u001b[31m6.8 MB/s\u001b[0m eta \u001b[36m0:00:00\u001b[0m\n",
            "\u001b[?25hCollecting faiss-cpu\n",
            "  Downloading faiss_cpu-1.8.0-cp310-cp310-manylinux_2_17_x86_64.manylinux2014_x86_64.whl (27.0 MB)\n",
            "\u001b[2K     \u001b[90m━━━━━━━━━━━━━━━━━━━━━━━━━━━━━━━━━━━━━━━━\u001b[0m \u001b[32m27.0/27.0 MB\u001b[0m \u001b[31m47.0 MB/s\u001b[0m eta \u001b[36m0:00:00\u001b[0m\n",
            "\u001b[?25hRequirement already satisfied: numpy in /usr/local/lib/python3.10/dist-packages (from faiss-cpu) (1.25.2)\n",
            "Installing collected packages: faiss-cpu\n",
            "Successfully installed faiss-cpu-1.8.0\n"
          ]
        }
      ]
    },
    {
      "cell_type": "code",
      "source": [
        "!pip install -q llama-index\n",
        "!pip install -q llama-index-llms-huggingface\n",
        "!pip install -q llama-index-embeddings-langchain\n",
        "!pip install langchain-community langchain-core langchain-huggingface"
      ],
      "metadata": {
        "colab": {
          "base_uri": "https://localhost:8080/"
        },
        "collapsed": true,
        "id": "hvlmldCQA1ua",
        "outputId": "261eaeab-f774-49b5-f8a9-a06e4fc808de"
      },
      "execution_count": 3,
      "outputs": [
        {
          "output_type": "stream",
          "name": "stdout",
          "text": [
            "\u001b[2K     \u001b[90m━━━━━━━━━━━━━━━━━━━━━━━━━━━━━━━━━━━━━━━━\u001b[0m \u001b[32m15.4/15.4 MB\u001b[0m \u001b[31m78.6 MB/s\u001b[0m eta \u001b[36m0:00:00\u001b[0m\n",
            "\u001b[2K     \u001b[90m━━━━━━━━━━━━━━━━━━━━━━━━━━━━━━━━━━━━━━━━\u001b[0m \u001b[32m2.0/2.0 MB\u001b[0m \u001b[31m66.9 MB/s\u001b[0m eta \u001b[36m0:00:00\u001b[0m\n",
            "\u001b[2K     \u001b[90m━━━━━━━━━━━━━━━━━━━━━━━━━━━━━━━━━━━━━━━━\u001b[0m \u001b[32m75.6/75.6 kB\u001b[0m \u001b[31m11.5 MB/s\u001b[0m eta \u001b[36m0:00:00\u001b[0m\n",
            "\u001b[2K     \u001b[90m━━━━━━━━━━━━━━━━━━━━━━━━━━━━━━━━━━━━━━━━\u001b[0m \u001b[32m130.8/130.8 kB\u001b[0m \u001b[31m19.1 MB/s\u001b[0m eta \u001b[36m0:00:00\u001b[0m\n",
            "\u001b[2K     \u001b[90m━━━━━━━━━━━━━━━━━━━━━━━━━━━━━━━━━━━━━━━━\u001b[0m \u001b[32m327.4/327.4 kB\u001b[0m \u001b[31m39.0 MB/s\u001b[0m eta \u001b[36m0:00:00\u001b[0m\n",
            "\u001b[2K     \u001b[90m━━━━━━━━━━━━━━━━━━━━━━━━━━━━━━━━━━━━━━━━\u001b[0m \u001b[32m1.1/1.1 MB\u001b[0m \u001b[31m73.5 MB/s\u001b[0m eta \u001b[36m0:00:00\u001b[0m\n",
            "\u001b[2K     \u001b[90m━━━━━━━━━━━━━━━━━━━━━━━━━━━━━━━━━━━━━━━━\u001b[0m \u001b[32m141.9/141.9 kB\u001b[0m \u001b[31m15.5 MB/s\u001b[0m eta \u001b[36m0:00:00\u001b[0m\n",
            "\u001b[2K     \u001b[90m━━━━━━━━━━━━━━━━━━━━━━━━━━━━━━━━━━━━━━━━\u001b[0m \u001b[32m77.9/77.9 kB\u001b[0m \u001b[31m13.4 MB/s\u001b[0m eta \u001b[36m0:00:00\u001b[0m\n",
            "\u001b[2K     \u001b[90m━━━━━━━━━━━━━━━━━━━━━━━━━━━━━━━━━━━━━━━━\u001b[0m \u001b[32m58.3/58.3 kB\u001b[0m \u001b[31m10.1 MB/s\u001b[0m eta \u001b[36m0:00:00\u001b[0m\n",
            "\u001b[2K     \u001b[90m━━━━━━━━━━━━━━━━━━━━━━━━━━━━━━━━━━━━━━━━\u001b[0m \u001b[32m49.2/49.2 kB\u001b[0m \u001b[31m6.9 MB/s\u001b[0m eta \u001b[36m0:00:00\u001b[0m\n",
            "\u001b[?25hCollecting langchain-community\n",
            "  Downloading langchain_community-0.2.5-py3-none-any.whl (2.2 MB)\n",
            "\u001b[2K     \u001b[90m━━━━━━━━━━━━━━━━━━━━━━━━━━━━━━━━━━━━━━━━\u001b[0m \u001b[32m2.2/2.2 MB\u001b[0m \u001b[31m42.4 MB/s\u001b[0m eta \u001b[36m0:00:00\u001b[0m\n",
            "\u001b[?25hRequirement already satisfied: langchain-core in /usr/local/lib/python3.10/dist-packages (0.2.9)\n",
            "Collecting langchain-huggingface\n",
            "  Downloading langchain_huggingface-0.0.3-py3-none-any.whl (17 kB)\n",
            "Requirement already satisfied: PyYAML>=5.3 in /usr/local/lib/python3.10/dist-packages (from langchain-community) (6.0.1)\n",
            "Requirement already satisfied: SQLAlchemy<3,>=1.4 in /usr/local/lib/python3.10/dist-packages (from langchain-community) (2.0.30)\n",
            "Requirement already satisfied: aiohttp<4.0.0,>=3.8.3 in /usr/local/lib/python3.10/dist-packages (from langchain-community) (3.9.5)\n",
            "Requirement already satisfied: dataclasses-json<0.7,>=0.5.7 in /usr/local/lib/python3.10/dist-packages (from langchain-community) (0.6.7)\n",
            "Requirement already satisfied: langchain<0.3.0,>=0.2.5 in /usr/local/lib/python3.10/dist-packages (from langchain-community) (0.2.5)\n",
            "Requirement already satisfied: langsmith<0.2.0,>=0.1.0 in /usr/local/lib/python3.10/dist-packages (from langchain-community) (0.1.81)\n",
            "Requirement already satisfied: numpy<2,>=1 in /usr/local/lib/python3.10/dist-packages (from langchain-community) (1.25.2)\n",
            "Requirement already satisfied: requests<3,>=2 in /usr/local/lib/python3.10/dist-packages (from langchain-community) (2.31.0)\n",
            "Requirement already satisfied: tenacity<9.0.0,>=8.1.0 in /usr/local/lib/python3.10/dist-packages (from langchain-community) (8.4.1)\n",
            "Requirement already satisfied: jsonpatch<2.0,>=1.33 in /usr/local/lib/python3.10/dist-packages (from langchain-core) (1.33)\n",
            "Requirement already satisfied: packaging<25,>=23.2 in /usr/local/lib/python3.10/dist-packages (from langchain-core) (24.1)\n",
            "Requirement already satisfied: pydantic<3,>=1 in /usr/local/lib/python3.10/dist-packages (from langchain-core) (2.7.4)\n",
            "Requirement already satisfied: huggingface-hub>=0.23.0 in /usr/local/lib/python3.10/dist-packages (from langchain-huggingface) (0.23.4)\n",
            "Requirement already satisfied: sentence-transformers>=2.6.0 in /usr/local/lib/python3.10/dist-packages (from langchain-huggingface) (3.0.1)\n",
            "Requirement already satisfied: tokenizers>=0.19.1 in /usr/local/lib/python3.10/dist-packages (from langchain-huggingface) (0.19.1)\n",
            "Requirement already satisfied: transformers>=4.39.0 in /usr/local/lib/python3.10/dist-packages (from langchain-huggingface) (4.41.2)\n",
            "Requirement already satisfied: aiosignal>=1.1.2 in /usr/local/lib/python3.10/dist-packages (from aiohttp<4.0.0,>=3.8.3->langchain-community) (1.3.1)\n",
            "Requirement already satisfied: attrs>=17.3.0 in /usr/local/lib/python3.10/dist-packages (from aiohttp<4.0.0,>=3.8.3->langchain-community) (23.2.0)\n",
            "Requirement already satisfied: frozenlist>=1.1.1 in /usr/local/lib/python3.10/dist-packages (from aiohttp<4.0.0,>=3.8.3->langchain-community) (1.4.1)\n",
            "Requirement already satisfied: multidict<7.0,>=4.5 in /usr/local/lib/python3.10/dist-packages (from aiohttp<4.0.0,>=3.8.3->langchain-community) (6.0.5)\n",
            "Requirement already satisfied: yarl<2.0,>=1.0 in /usr/local/lib/python3.10/dist-packages (from aiohttp<4.0.0,>=3.8.3->langchain-community) (1.9.4)\n",
            "Requirement already satisfied: async-timeout<5.0,>=4.0 in /usr/local/lib/python3.10/dist-packages (from aiohttp<4.0.0,>=3.8.3->langchain-community) (4.0.3)\n",
            "Requirement already satisfied: marshmallow<4.0.0,>=3.18.0 in /usr/local/lib/python3.10/dist-packages (from dataclasses-json<0.7,>=0.5.7->langchain-community) (3.21.3)\n",
            "Requirement already satisfied: typing-inspect<1,>=0.4.0 in /usr/local/lib/python3.10/dist-packages (from dataclasses-json<0.7,>=0.5.7->langchain-community) (0.9.0)\n",
            "Requirement already satisfied: filelock in /usr/local/lib/python3.10/dist-packages (from huggingface-hub>=0.23.0->langchain-huggingface) (3.15.1)\n",
            "Requirement already satisfied: fsspec>=2023.5.0 in /usr/local/lib/python3.10/dist-packages (from huggingface-hub>=0.23.0->langchain-huggingface) (2023.6.0)\n",
            "Requirement already satisfied: tqdm>=4.42.1 in /usr/local/lib/python3.10/dist-packages (from huggingface-hub>=0.23.0->langchain-huggingface) (4.66.4)\n",
            "Requirement already satisfied: typing-extensions>=3.7.4.3 in /usr/local/lib/python3.10/dist-packages (from huggingface-hub>=0.23.0->langchain-huggingface) (4.12.2)\n",
            "Requirement already satisfied: jsonpointer>=1.9 in /usr/local/lib/python3.10/dist-packages (from jsonpatch<2.0,>=1.33->langchain-core) (3.0.0)\n",
            "Requirement already satisfied: langchain-text-splitters<0.3.0,>=0.2.0 in /usr/local/lib/python3.10/dist-packages (from langchain<0.3.0,>=0.2.5->langchain-community) (0.2.1)\n",
            "Requirement already satisfied: orjson<4.0.0,>=3.9.14 in /usr/local/lib/python3.10/dist-packages (from langsmith<0.2.0,>=0.1.0->langchain-community) (3.10.5)\n",
            "Requirement already satisfied: annotated-types>=0.4.0 in /usr/local/lib/python3.10/dist-packages (from pydantic<3,>=1->langchain-core) (0.7.0)\n",
            "Requirement already satisfied: pydantic-core==2.18.4 in /usr/local/lib/python3.10/dist-packages (from pydantic<3,>=1->langchain-core) (2.18.4)\n",
            "Requirement already satisfied: charset-normalizer<4,>=2 in /usr/local/lib/python3.10/dist-packages (from requests<3,>=2->langchain-community) (3.3.2)\n",
            "Requirement already satisfied: idna<4,>=2.5 in /usr/local/lib/python3.10/dist-packages (from requests<3,>=2->langchain-community) (3.7)\n",
            "Requirement already satisfied: urllib3<3,>=1.21.1 in /usr/local/lib/python3.10/dist-packages (from requests<3,>=2->langchain-community) (2.0.7)\n",
            "Requirement already satisfied: certifi>=2017.4.17 in /usr/local/lib/python3.10/dist-packages (from requests<3,>=2->langchain-community) (2024.6.2)\n",
            "Requirement already satisfied: torch>=1.11.0 in /usr/local/lib/python3.10/dist-packages (from sentence-transformers>=2.6.0->langchain-huggingface) (2.3.0+cu121)\n",
            "Requirement already satisfied: scikit-learn in /usr/local/lib/python3.10/dist-packages (from sentence-transformers>=2.6.0->langchain-huggingface) (1.2.2)\n",
            "Requirement already satisfied: scipy in /usr/local/lib/python3.10/dist-packages (from sentence-transformers>=2.6.0->langchain-huggingface) (1.11.4)\n",
            "Requirement already satisfied: Pillow in /usr/local/lib/python3.10/dist-packages (from sentence-transformers>=2.6.0->langchain-huggingface) (9.4.0)\n",
            "Requirement already satisfied: greenlet!=0.4.17 in /usr/local/lib/python3.10/dist-packages (from SQLAlchemy<3,>=1.4->langchain-community) (3.0.3)\n",
            "Requirement already satisfied: regex!=2019.12.17 in /usr/local/lib/python3.10/dist-packages (from transformers>=4.39.0->langchain-huggingface) (2024.5.15)\n",
            "Requirement already satisfied: safetensors>=0.4.1 in /usr/local/lib/python3.10/dist-packages (from transformers>=4.39.0->langchain-huggingface) (0.4.3)\n",
            "Requirement already satisfied: sympy in /usr/local/lib/python3.10/dist-packages (from torch>=1.11.0->sentence-transformers>=2.6.0->langchain-huggingface) (1.12.1)\n",
            "Requirement already satisfied: networkx in /usr/local/lib/python3.10/dist-packages (from torch>=1.11.0->sentence-transformers>=2.6.0->langchain-huggingface) (3.3)\n",
            "Requirement already satisfied: jinja2 in /usr/local/lib/python3.10/dist-packages (from torch>=1.11.0->sentence-transformers>=2.6.0->langchain-huggingface) (3.1.4)\n",
            "Requirement already satisfied: nvidia-cuda-nvrtc-cu12==12.1.105 in /usr/local/lib/python3.10/dist-packages (from torch>=1.11.0->sentence-transformers>=2.6.0->langchain-huggingface) (12.1.105)\n",
            "Requirement already satisfied: nvidia-cuda-runtime-cu12==12.1.105 in /usr/local/lib/python3.10/dist-packages (from torch>=1.11.0->sentence-transformers>=2.6.0->langchain-huggingface) (12.1.105)\n",
            "Requirement already satisfied: nvidia-cuda-cupti-cu12==12.1.105 in /usr/local/lib/python3.10/dist-packages (from torch>=1.11.0->sentence-transformers>=2.6.0->langchain-huggingface) (12.1.105)\n",
            "Requirement already satisfied: nvidia-cudnn-cu12==8.9.2.26 in /usr/local/lib/python3.10/dist-packages (from torch>=1.11.0->sentence-transformers>=2.6.0->langchain-huggingface) (8.9.2.26)\n",
            "Requirement already satisfied: nvidia-cublas-cu12==12.1.3.1 in /usr/local/lib/python3.10/dist-packages (from torch>=1.11.0->sentence-transformers>=2.6.0->langchain-huggingface) (12.1.3.1)\n",
            "Requirement already satisfied: nvidia-cufft-cu12==11.0.2.54 in /usr/local/lib/python3.10/dist-packages (from torch>=1.11.0->sentence-transformers>=2.6.0->langchain-huggingface) (11.0.2.54)\n",
            "Requirement already satisfied: nvidia-curand-cu12==10.3.2.106 in /usr/local/lib/python3.10/dist-packages (from torch>=1.11.0->sentence-transformers>=2.6.0->langchain-huggingface) (10.3.2.106)\n",
            "Requirement already satisfied: nvidia-cusolver-cu12==11.4.5.107 in /usr/local/lib/python3.10/dist-packages (from torch>=1.11.0->sentence-transformers>=2.6.0->langchain-huggingface) (11.4.5.107)\n",
            "Requirement already satisfied: nvidia-cusparse-cu12==12.1.0.106 in /usr/local/lib/python3.10/dist-packages (from torch>=1.11.0->sentence-transformers>=2.6.0->langchain-huggingface) (12.1.0.106)\n",
            "Requirement already satisfied: nvidia-nccl-cu12==2.20.5 in /usr/local/lib/python3.10/dist-packages (from torch>=1.11.0->sentence-transformers>=2.6.0->langchain-huggingface) (2.20.5)\n",
            "Requirement already satisfied: nvidia-nvtx-cu12==12.1.105 in /usr/local/lib/python3.10/dist-packages (from torch>=1.11.0->sentence-transformers>=2.6.0->langchain-huggingface) (12.1.105)\n",
            "Requirement already satisfied: triton==2.3.0 in /usr/local/lib/python3.10/dist-packages (from torch>=1.11.0->sentence-transformers>=2.6.0->langchain-huggingface) (2.3.0)\n",
            "Requirement already satisfied: nvidia-nvjitlink-cu12 in /usr/local/lib/python3.10/dist-packages (from nvidia-cusolver-cu12==11.4.5.107->torch>=1.11.0->sentence-transformers>=2.6.0->langchain-huggingface) (12.5.40)\n",
            "Requirement already satisfied: mypy-extensions>=0.3.0 in /usr/local/lib/python3.10/dist-packages (from typing-inspect<1,>=0.4.0->dataclasses-json<0.7,>=0.5.7->langchain-community) (1.0.0)\n",
            "Requirement already satisfied: joblib>=1.1.1 in /usr/local/lib/python3.10/dist-packages (from scikit-learn->sentence-transformers>=2.6.0->langchain-huggingface) (1.4.2)\n",
            "Requirement already satisfied: threadpoolctl>=2.0.0 in /usr/local/lib/python3.10/dist-packages (from scikit-learn->sentence-transformers>=2.6.0->langchain-huggingface) (3.5.0)\n",
            "Requirement already satisfied: MarkupSafe>=2.0 in /usr/local/lib/python3.10/dist-packages (from jinja2->torch>=1.11.0->sentence-transformers>=2.6.0->langchain-huggingface) (2.1.5)\n",
            "Requirement already satisfied: mpmath<1.4.0,>=1.1.0 in /usr/local/lib/python3.10/dist-packages (from sympy->torch>=1.11.0->sentence-transformers>=2.6.0->langchain-huggingface) (1.3.0)\n",
            "Installing collected packages: langchain-huggingface, langchain-community\n",
            "Successfully installed langchain-community-0.2.5 langchain-huggingface-0.0.3\n"
          ]
        }
      ]
    },
    {
      "cell_type": "code",
      "source": [
        "!pip install joblib\n",
        "!pip install torch"
      ],
      "metadata": {
        "colab": {
          "base_uri": "https://localhost:8080/"
        },
        "collapsed": true,
        "id": "vQo_gd81A3cs",
        "outputId": "fbe8f256-7a58-443b-b214-244086a3d6cb"
      },
      "execution_count": 4,
      "outputs": [
        {
          "output_type": "stream",
          "name": "stdout",
          "text": [
            "Requirement already satisfied: joblib in /usr/local/lib/python3.10/dist-packages (1.4.2)\n",
            "Requirement already satisfied: torch in /usr/local/lib/python3.10/dist-packages (2.3.0+cu121)\n",
            "Requirement already satisfied: filelock in /usr/local/lib/python3.10/dist-packages (from torch) (3.15.1)\n",
            "Requirement already satisfied: typing-extensions>=4.8.0 in /usr/local/lib/python3.10/dist-packages (from torch) (4.12.2)\n",
            "Requirement already satisfied: sympy in /usr/local/lib/python3.10/dist-packages (from torch) (1.12.1)\n",
            "Requirement already satisfied: networkx in /usr/local/lib/python3.10/dist-packages (from torch) (3.3)\n",
            "Requirement already satisfied: jinja2 in /usr/local/lib/python3.10/dist-packages (from torch) (3.1.4)\n",
            "Requirement already satisfied: fsspec in /usr/local/lib/python3.10/dist-packages (from torch) (2023.6.0)\n",
            "Requirement already satisfied: nvidia-cuda-nvrtc-cu12==12.1.105 in /usr/local/lib/python3.10/dist-packages (from torch) (12.1.105)\n",
            "Requirement already satisfied: nvidia-cuda-runtime-cu12==12.1.105 in /usr/local/lib/python3.10/dist-packages (from torch) (12.1.105)\n",
            "Requirement already satisfied: nvidia-cuda-cupti-cu12==12.1.105 in /usr/local/lib/python3.10/dist-packages (from torch) (12.1.105)\n",
            "Requirement already satisfied: nvidia-cudnn-cu12==8.9.2.26 in /usr/local/lib/python3.10/dist-packages (from torch) (8.9.2.26)\n",
            "Requirement already satisfied: nvidia-cublas-cu12==12.1.3.1 in /usr/local/lib/python3.10/dist-packages (from torch) (12.1.3.1)\n",
            "Requirement already satisfied: nvidia-cufft-cu12==11.0.2.54 in /usr/local/lib/python3.10/dist-packages (from torch) (11.0.2.54)\n",
            "Requirement already satisfied: nvidia-curand-cu12==10.3.2.106 in /usr/local/lib/python3.10/dist-packages (from torch) (10.3.2.106)\n",
            "Requirement already satisfied: nvidia-cusolver-cu12==11.4.5.107 in /usr/local/lib/python3.10/dist-packages (from torch) (11.4.5.107)\n",
            "Requirement already satisfied: nvidia-cusparse-cu12==12.1.0.106 in /usr/local/lib/python3.10/dist-packages (from torch) (12.1.0.106)\n",
            "Requirement already satisfied: nvidia-nccl-cu12==2.20.5 in /usr/local/lib/python3.10/dist-packages (from torch) (2.20.5)\n",
            "Requirement already satisfied: nvidia-nvtx-cu12==12.1.105 in /usr/local/lib/python3.10/dist-packages (from torch) (12.1.105)\n",
            "Requirement already satisfied: triton==2.3.0 in /usr/local/lib/python3.10/dist-packages (from torch) (2.3.0)\n",
            "Requirement already satisfied: nvidia-nvjitlink-cu12 in /usr/local/lib/python3.10/dist-packages (from nvidia-cusolver-cu12==11.4.5.107->torch) (12.5.40)\n",
            "Requirement already satisfied: MarkupSafe>=2.0 in /usr/local/lib/python3.10/dist-packages (from jinja2->torch) (2.1.5)\n",
            "Requirement already satisfied: mpmath<1.4.0,>=1.1.0 in /usr/local/lib/python3.10/dist-packages (from sympy->torch) (1.3.0)\n"
          ]
        }
      ]
    },
    {
      "cell_type": "code",
      "execution_count": 5,
      "metadata": {
        "colab": {
          "base_uri": "https://localhost:8080/"
        },
        "id": "ddq-yhbcAjRt",
        "outputId": "a9a60a54-0fc3-440a-ba82-c718538c5b74"
      },
      "outputs": [
        {
          "output_type": "stream",
          "name": "stdout",
          "text": [
            "Mounted at /content/drive\n"
          ]
        }
      ],
      "source": [
        "from google.colab import drive\n",
        "drive.mount('/content/drive')"
      ]
    },
    {
      "cell_type": "code",
      "source": [
        "import json\n",
        "import os\n",
        "import time\n",
        "import pickle\n",
        "import torch\n",
        "from transformers import AutoModelForCausalLM, AutoTokenizer, AutoModel\n",
        "from llama_index.core import PromptTemplate, Settings\n",
        "from llama_index.llms.huggingface import HuggingFaceLLM\n",
        "\n",
        "showMessage = True\n",
        "\n",
        "LLM_MODEL_NAME = \"meta-llama/Llama-2-7b-chat-hf\"\n",
        "\n",
        "# GPU acceleration with metal on Mac\n",
        "# device = torch.device(\"cuda\")\n",
        "# GPU acceleration with CUDA\n",
        "device = torch.device(\"cpu\")\n",
        "\n",
        "# device = torch.device(\"cuda\") if torch.cuda.is_available() else torch.device(\"cuda\")\n"
      ],
      "metadata": {
        "colab": {
          "base_uri": "https://localhost:8080/"
        },
        "id": "cqGji8C6BRcT",
        "outputId": "0ebfe35b-77ae-45bc-f023-243686f3db6f"
      },
      "execution_count": 6,
      "outputs": [
        {
          "output_type": "stream",
          "name": "stderr",
          "text": [
            "/usr/local/lib/python3.10/dist-packages/pydantic/_internal/_fields.py:160: UserWarning: Field \"model_id\" has conflict with protected namespace \"model_\".\n",
            "\n",
            "You may be able to resolve this warning by setting `model_config['protected_namespaces'] = ()`.\n",
            "  warnings.warn(\n"
          ]
        }
      ]
    },
    {
      "cell_type": "code",
      "source": [
        "# Function to print the current time and a message\n",
        "def log_time(message):\n",
        "    if showMessage:\n",
        "        print(f\"[{time.strftime('%Y-%m-%d %H:%M:%S')}] {message}\")\n",
        "\n",
        "\n",
        "# Load the vector index\n",
        "def load_index(directory_path):\n",
        "    index_file_path = os.path.join(directory_path, \"index.pkl\")\n",
        "\n",
        "    with open(index_file_path, \"rb\") as f:\n",
        "        index = pickle.load(f)\n",
        "\n",
        "    log_time(f\"Index loaded from {index_file_path}\")\n",
        "    return index\n",
        "\n",
        "\n",
        "# Load the model and tokenizer\n",
        "def load_model(directory_path):\n",
        "    model_save_path = os.path.join(directory_path, \"llm_model\")\n",
        "    tokenizer_save_path = os.path.join(directory_path, \"llm_tokenizer\")\n",
        "\n",
        "    model = AutoModelForCausalLM.from_pretrained(model_save_path)\n",
        "    tokenizer = AutoTokenizer.from_pretrained(tokenizer_save_path)\n",
        "\n",
        "    log_time(\"Model and tokenizer loaded.\" + \"██\" * 10)\n",
        "    return model, tokenizer\n",
        "\n",
        "\n",
        "# Load the embedding model\n",
        "def load_embedding_model(directory_path):\n",
        "    embedding_model_path = os.path.join(directory_path, \"embedding_model_cpu.pkl\")\n",
        "\n",
        "    with open(embedding_model_path, \"rb\") as f:\n",
        "        embed_model = pickle.load(f)\n",
        "        log_time(\"Embedding model loaded.\" + \"██\" * 10)\n",
        "    return embed_model\n",
        "\n",
        "\n",
        "# Load LLM configuration from JSON file\n",
        "def load_config(directory_path):\n",
        "    config_file_path = os.path.join(directory_path, \"llm_config.json\")\n",
        "\n",
        "    with open(config_file_path, \"r\") as f:\n",
        "        llm_config = json.load(f)\n",
        "        log_time(\"LLM configuration loaded.\" + \"██\" * 20)\n",
        "    return llm_config\n",
        "\n",
        "\n",
        "# Import the saved model with HuggingFace\n",
        "def initialize_llm(llm_config, model, tokenizer):\n",
        "    llm = HuggingFaceLLM(\n",
        "        context_window=llm_config[\"context_window\"],\n",
        "        max_new_tokens=llm_config[\"max_new_tokens\"],\n",
        "        generate_kwargs=llm_config[\"generate_kwargs\"],\n",
        "        system_prompt=llm_config[\"system_prompt\"],\n",
        "        query_wrapper_prompt=PromptTemplate(\"<|USER|>{query_str}<|ASSISTANT|>\"),\n",
        "        model=model,\n",
        "        tokenizer=tokenizer,\n",
        "        # tokenizer_name=LLM_MODEL_NAME,\n",
        "        # model_name=LLM_MODEL_NAME,\n",
        "        # device_map=\"auto\",\n",
        "\n",
        "    )\n",
        "\n",
        "    log_time(\"LLM initialized.\")\n",
        "    return llm\n",
        "\n",
        "# congfigure the settings\n",
        "def configure_settings(embed_model, llm):\n",
        "    Settings.embed_model = embed_model\n",
        "    Settings.llm = llm\n",
        "    Settings.chunk_size = 1024\n",
        "    log_time(\"Settings configured.\")"
      ],
      "metadata": {
        "id": "KdVjw2hRBhqn"
      },
      "execution_count": 7,
      "outputs": []
    },
    {
      "cell_type": "code",
      "source": [
        "def generate_response(model, tokenizer, question):\n",
        "    try:\n",
        "        log_time(\"Tokenizing input...\")\n",
        "        inputs = tokenizer(question, return_tensors=\"pt\").to(device)\n",
        "        log_time(\"Input tokenized.\")\n",
        "\n",
        "        log_time(\"Generating response...\")\n",
        "        start_time = time.time()\n",
        "\n",
        "        # with torch.no_grad():  # Disable gradient calculation for inference\n",
        "              # with torch.cuda.amp.autocast():\n",
        "        output = model.generate(\n",
        "            input_ids=inputs[\"input_ids\"],\n",
        "            attention_mask=inputs[\"attention_mask\"],\n",
        "            max_new_tokens=512,\n",
        "            pad_token_id=tokenizer.eos_token_id,\n",
        "        )\n",
        "        end_time = time.time()\n",
        "        log_time(f\"Response generated in {end_time - start_time:.2f} seconds.\")\n",
        "\n",
        "        log_time(\"Decoding response...\")\n",
        "        response = tokenizer.decode(output[0][inputs[\"input_ids\"].shape[-1]:], skip_special_tokens=True)\n",
        "        log_time(\"Response decoded.\")\n",
        "\n",
        "        # Move the model back to CPU to free up GPU memory\n",
        "        # model.to('cpu')\n",
        "        # torch.cuda.empty_cache()\n",
        "\n",
        "        return response\n",
        "    except Exception as e:\n",
        "        print(e)\n",
        "        log_time(f\"Failed to generate response: {e}\")\n",
        "        return None"
      ],
      "metadata": {
        "id": "oo_OAyTsBt5A"
      },
      "execution_count": 11,
      "outputs": []
    },
    {
      "cell_type": "code",
      "source": [
        "def initialize_all(directory):\n",
        "    index = load_index(directory)\n",
        "    model, tokenizer = load_model(directory)\n",
        "    embed_model = load_embedding_model(directory)\n",
        "    llm_config = load_config(directory)\n",
        "    llm = initialize_llm(llm_config, model, tokenizer)\n",
        "    configure_settings(embed_model, llm)\n",
        "    return model, tokenizer\n",
        "\n",
        "# Initialize the model, tokenizer, and settings when the module is imported\n",
        "model_dir = \"drive/MyDrive/Model/\"\n",
        "model, tokenizer = initialize_all(model_dir)"
      ],
      "metadata": {
        "colab": {
          "base_uri": "https://localhost:8080/",
          "height": 198,
          "referenced_widgets": [
            "e686c33713c64ab5ab29db9cf9a0b52b",
            "9c5aee6939ce401c88c41fdf9519504f",
            "9d0994df7fca4d72b7b78bbc5c55e7ad",
            "1c69efcae151413b8ad01d05afbbcd3d",
            "e87a781de51a48fd8b1504811bf84a6f",
            "3232da6898ab4c5b9c786e9c6321737e",
            "7ff14b1341b24405ae7d68cac31f62a2",
            "c042530218f94b28b6167ff4df97c37b",
            "25cea38e6bb54aa19a858e72daa0d21c",
            "1b805961536a4b1bb117249c6c88871c",
            "da2de098bef1424796b7a4a78eddf927"
          ]
        },
        "id": "CBb1lqV1B1WC",
        "outputId": "35ced408-4eab-4522-8df4-333ec477e0d0"
      },
      "execution_count": 9,
      "outputs": [
        {
          "output_type": "stream",
          "name": "stdout",
          "text": [
            "[2024-06-24 03:19:11] Index loaded from drive/MyDrive/Model/index.pkl\n"
          ]
        },
        {
          "output_type": "display_data",
          "data": {
            "text/plain": [
              "Loading checkpoint shards:   0%|          | 0/6 [00:00<?, ?it/s]"
            ],
            "application/vnd.jupyter.widget-view+json": {
              "version_major": 2,
              "version_minor": 0,
              "model_id": "e686c33713c64ab5ab29db9cf9a0b52b"
            }
          },
          "metadata": {}
        },
        {
          "output_type": "stream",
          "name": "stdout",
          "text": [
            "[2024-06-24 03:24:08] Model and tokenizer loaded.████████████████████\n",
            "[2024-06-24 03:24:17] Embedding model loaded.████████████████████\n"
          ]
        },
        {
          "output_type": "stream",
          "name": "stderr",
          "text": [
            "WARNING:llama_index.llms.huggingface.base:The model `StabilityAI/stablelm-tuned-alpha-3b` and tokenizer `drive/MyDrive/Model/llm_tokenizer` are different, please ensure that they are compatible.\n"
          ]
        },
        {
          "output_type": "stream",
          "name": "stdout",
          "text": [
            "[2024-06-24 03:24:18] LLM configuration loaded.████████████████████████████████████████\n",
            "[2024-06-24 03:24:18] LLM initialized.\n",
            "[2024-06-24 03:24:19] Settings configured.\n"
          ]
        }
      ]
    },
    {
      "cell_type": "code",
      "source": [
        "while True:\n",
        "  try:\n",
        "    print(\"Type \\\"exit\\\" to exit\")\n",
        "    question = input(\"Enter your question: \")\n",
        "\n",
        "    if question == \"exit\":\n",
        "      print(\"exiting...\")\n",
        "      break\n",
        "    response = generate_response(model, tokenizer, question)\n",
        "\n",
        "    print(response)\n",
        "  except Exception as e:\n",
        "    print(e)\n"
      ],
      "metadata": {
        "id": "w0LQoTbFB7IX",
        "colab": {
          "base_uri": "https://localhost:8080/"
        },
        "outputId": "2756d122-a9be-4c81-f1f4-443d3e509a43"
      },
      "execution_count": 12,
      "outputs": [
        {
          "output_type": "stream",
          "name": "stdout",
          "text": [
            "Type \"exit\" to exit\n",
            "Enter your question: What is Atrial Fibrillation?\n",
            "[2024-06-24 03:26:29] Tokenizing input...\n",
            "[2024-06-24 03:26:29] Input tokenized.\n",
            "[2024-06-24 03:26:29] Generating response...\n",
            "[2024-06-24 03:30:48] Response generated in 258.16 seconds.\n",
            "[2024-06-24 03:30:48] Decoding response...\n",
            "[2024-06-24 03:30:48] Response decoded.\n",
            "\n",
            "\n",
            "Atrial fibrillation (AFib or AF) is a type of arrhythmia, or irregular heartbeat. It occurs when the normal electrical signals in the heart's atria (the upper chambers of the heart) become disorganized and begin to fire off randomly and quickly, out of sync with the heart's normal rhythm. This can cause the heart to beat too fast, too slow, or irregularly, leading to inefficient pumping of blood throughout the body.\n",
            "\n",
            "AFib can be a serious condition because it can lead to blood clots, stroke, heart failure, and other complications. It is estimated that AFib affects over 33 million people worldwide and is the most common type of cardiac arrhythmia.\n",
            "\n",
            "Causes and Risk Factors\n",
            "------------------------\n",
            "\n",
            "There are several potential causes and risk factors for atrial fibrillation, including:\n",
            "\n",
            "* Age: The risk of developing AFib increases with age, with most cases occurring in people over the age of 65.\n",
            "* Heart disease: People with heart disease, including coronary artery disease, heart valve problems, and heart failure, are at higher risk of developing AFib.\n",
            "* High blood pressure: High blood pressure can increase the risk of developing AFib.\n",
            "* Diabetes: Diabetes can increase the risk of developing AFib.\n",
            "* Sleep apnea: Sleep apnea, a condition in which a person stops breathing for short periods during sleep, can increase the risk of developing AFib.\n",
            "* Alcohol consumption: Excessive alcohol consumption has been linked to an increased risk of developing AFib.\n",
            "* Certain medications: Certain medications, such as thyroid medications, can increase the risk of developing AFib.\n",
            "* Genetics: AFib can run in families, suggesting that there may be a genetic component to the condition.\n",
            "\n",
            "Symptoms\n",
            "----------\n",
            "\n",
            "AFib can cause a range of symptoms, including:\n",
            "\n",
            "* Rapid or irregular heartbeat\n",
            "* Shortness of breath\n",
            "* Fatigue\n",
            "* Dizziness or lightheadedness\n",
            "* Chest pain or discomfort\n",
            "* Palpitations\n",
            "* Coughing or wheezing\n",
            "\n",
            "Diagnosis\n",
            "-----------\n",
            "\n",
            "AFib can be diagnosed through a variety of\n",
            "Type \"exit\" to exit\n",
            "Enter your question: Can you give me a shorter anwer for what is AFib?\n",
            "[2024-06-24 03:32:36] Tokenizing input...\n",
            "[2024-06-24 03:32:36] Input tokenized.\n",
            "[2024-06-24 03:32:36] Generating response...\n",
            "[2024-06-24 03:33:45] Response generated in 68.52 seconds.\n",
            "[2024-06-24 03:33:45] Decoding response...\n",
            "[2024-06-24 03:33:45] Response decoded.\n",
            "\n",
            "\n",
            "Sure! Atrial fibrillation (AFib) is a type of irregular heartbeat that can cause your heart to beat too fast, too slow, or irregularly. It occurs when the normal electrical signals in the heart's upper chambers (the atria) become disrupted, causing the atria to contract irregularly and quickly. This can lead to a range of symptoms, including palpitations, shortness of breath, and fatigue. AFib can be a serious condition, but it can often be treated with medication, cardioversion (a procedure that restores a normal heart rhythm), or other treatments.\n",
            "Type \"exit\" to exit\n",
            "Enter your question: exigt\n",
            "[2024-06-24 03:39:19] Tokenizing input...\n",
            "[2024-06-24 03:39:19] Input tokenized.\n",
            "[2024-06-24 03:39:19] Generating response...\n",
            "[2024-06-24 03:43:37] Response generated in 257.37 seconds.\n",
            "[2024-06-24 03:43:37] Decoding response...\n",
            "[2024-06-24 03:43:37] Response decoded.\n",
            ", J. (2016). The role of social media in the 2016 US presidential election. Journal of Communication, 66(1), 121-140.\n",
            "\n",
            "This article examines the role of social media in the 2016 US presidential election. The author analyzes the use of social media by the candidates, including Donald Trump and Hillary Clinton, and their impact on the campaign. The article also discusses the role of social media in shaping public opinion and the spread of misinformation.\n",
            "\n",
            "Keywords: social media, US presidential election, campaign, public opinion, misinformation.\n",
            "\n",
            "Introduction\n",
            "\n",
            "The 2016 US presidential election was a pivotal moment in the history of social media. For the first time, social media platforms played a significant role in the campaign, with candidates using them to reach voters directly and bypass traditional media outlets. This article examines the role of social media in the 2016 election, focusing on the use of these platforms by the candidates, their impact on public opinion, and the spread of misinformation.\n",
            "\n",
            "Candidates' Use of Social Media\n",
            "\n",
            "Both Donald Trump and Hillary Clinton used social media extensively during the campaign. Trump, in particular, was a prolific user of Twitter, where he shared his thoughts and opinions directly with his followers. Clinton also used social media, but her campaign was more focused on organizing and mobilizing supporters through platforms like Facebook and Twitter.\n",
            "\n",
            "The candidates' use of social media had a significant impact on the campaign. Trump's Twitter account became a key source of information and misinformation about the campaign, with many of his tweets generating significant media attention and fueling controversy. Clinton's use of social media helped her connect with supporters and organize get-out-the-vote efforts, particularly among younger voters.\n",
            "\n",
            "Impact on Public Opinion\n",
            "\n",
            "Social media also played a significant role in shaping public opinion during the campaign. Trump's use of Twitter helped him build a strong following among conservative voters, who were drawn to his unfiltered and unapologetic message. Clinton's use of social media helped her connect with progressive voters, who were eager to support a candidate who shared their values.\n",
            "\n",
            "However, social media also\n",
            "Type \"exit\" to exit\n",
            "Enter your question: How are ECG and Blood Sugar related? Give me a detailed but concise answer.\n",
            "[2024-06-24 03:46:10] Tokenizing input...\n",
            "[2024-06-24 03:46:10] Input tokenized.\n",
            "[2024-06-24 03:46:10] Generating response...\n",
            "[2024-06-24 03:50:30] Response generated in 259.83 seconds.\n",
            "[2024-06-24 03:50:30] Decoding response...\n",
            "[2024-06-24 03:50:30] Response decoded.\n",
            "\n",
            "The ECG and blood sugar are related in several ways. Here are some of the key connections:\n",
            "\n",
            "1. Diabetes and Heart Disease: Diabetes is a significant risk factor for heart disease, and people with diabetes are at higher risk of developing heart disease than those without diabetes. Abnormal ECG readings, such as ST segment depression or T wave inversion, are common in people with diabetes and can be an indicator of underlying cardiovascular disease.\n",
            "2. Hyperglycemia and Electrolyte Imbalance: High blood sugar levels can cause electrolyte imbalances, which can affect the electrical activity of the heart and lead to abnormal ECG readings. For example, hyperglycemia can cause an increase in potassium levels, which can lead to prolongation of the QT interval and an increased risk of arrhythmias.\n",
            "3. Insulin Resistance and Cardiac Remodeling: Insulin resistance, a common complication of type 2 diabetes, can lead to cardiac remodeling, including hypertrophy and fibrosis. These changes can increase the risk of cardiac arrhythmias and heart failure. Abnormal ECG readings may be more common in people with insulin resistance and cardiac remodeling.\n",
            "4. Diabetes Medications and ECG Abnormalities: Certain medications used to treat diabetes, such as beta blockers and calcium channel blockers, can affect the heart's electrical activity and lead to ECG abnormalities. These medications can prolong the QT interval, increase the risk of arrhythmias, and may be more common in people with diabetes.\n",
            "5. ECG Changes as a Marker of Diabetes Severity: Some ECG changes, such as ST segment depression or T wave inversion, have been shown to be more common in people with more severe diabetes. These changes may be an indicator of underlying cardiovascular disease and can help healthcare providers identify people with diabetes who may be at higher risk of cardiovascular complications.\n",
            "\n",
            "In summary, there are several connections between ECG and blood sugar levels, including the relationship between diabetes and heart disease, hyperglycemia and electrolyte imbalance, insul\n",
            "Type \"exit\" to exit\n",
            "Enter your question: exit\n",
            "exiting...\n"
          ]
        }
      ]
    },
    {
      "cell_type": "code",
      "source": [],
      "metadata": {
        "id": "Z6A-3b_DEgrh"
      },
      "execution_count": 10,
      "outputs": []
    }
  ]
}